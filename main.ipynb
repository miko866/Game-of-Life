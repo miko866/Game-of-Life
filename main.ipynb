{
 "cells": [
  {
   "cell_type": "code",
   "outputs": [],
   "source": [
    "import numpy as np"
   ],
   "metadata": {
    "collapsed": false,
    "ExecuteTime": {
     "end_time": "2024-03-26T07:43:29.084298Z",
     "start_time": "2024-03-26T07:43:29.081360Z"
    }
   },
   "id": "ac94c9658ef75356",
   "execution_count": 24
  },
  {
   "cell_type": "code",
   "outputs": [],
   "source": [
    "# Define the initial state\n",
    "RULE_NUMBER = 110 # Can be from 1 to 256\n",
    "WIDTH = 8\n",
    "GENERATIONS = 20"
   ],
   "metadata": {
    "collapsed": false,
    "ExecuteTime": {
     "end_time": "2024-03-26T07:43:29.585562Z",
     "start_time": "2024-03-26T07:43:29.583561Z"
    }
   },
   "id": "5389521d9e10c8fb",
   "execution_count": 25
  },
  {
   "cell_type": "code",
   "outputs": [
    {
     "name": "stdout",
     "output_type": "stream",
     "text": [
      "Rule number 110 in binary is 01101110\n",
      "Rule array: [0 1 1 0 1 1 1 0]\n"
     ]
    }
   ],
   "source": [
    "# Convert the rule number to binary\n",
    "rule_binary = np.binary_repr(RULE_NUMBER, width=WIDTH)\n",
    "print(\"Rule number\", str(RULE_NUMBER), \"in binary is\", str(rule_binary))\n",
    "\n",
    "# Convert the rule binary to a numpy array\n",
    "rules = np.array([int(bit) for bit in rule_binary])\n",
    "print(\"Rule array:\", str(rules))"
   ],
   "metadata": {
    "collapsed": false,
    "ExecuteTime": {
     "end_time": "2024-03-26T07:43:29.952415Z",
     "start_time": "2024-03-26T07:43:29.949919Z"
    }
   },
   "id": "86af8d2fae6f0396",
   "execution_count": 26
  },
  {
   "cell_type": "code",
   "outputs": [
    {
     "name": "stdout",
     "output_type": "stream",
     "text": [
      "First row: [0 0 1 0 1 0 0 0 1 1 1 0 1 0 0 1 0 0 1 1]\n"
     ]
    }
   ],
   "source": [
    "# Initialize the first row with your specified values\n",
    "first_row = np.array([0, 0, 1, 0, 1, 0, 0, 0, 1, 1, 1, 0, 1, 0, 0, 1, 0, 0, 1, 1])\n",
    "\n",
    "print(\"First row:\", str(first_row))"
   ],
   "metadata": {
    "collapsed": false,
    "ExecuteTime": {
     "end_time": "2024-03-26T07:43:30.302578Z",
     "start_time": "2024-03-26T07:43:30.300139Z"
    }
   },
   "id": "895e7bc34cd7bbbf",
   "execution_count": 27
  },
  {
   "cell_type": "code",
   "outputs": [],
   "source": [
    "# Count the number of live neighbors for a cell.\n",
    "def count_live_neighbors(row, value):\n",
    "    left = row[value-1] if value > 0 else 0\n",
    "    right = row[value+1] if value < len(row) - 1 else 0\n",
    "    return left + right"
   ],
   "metadata": {
    "collapsed": false,
    "ExecuteTime": {
     "end_time": "2024-03-26T07:43:30.701861Z",
     "start_time": "2024-03-26T07:43:30.699567Z"
    }
   },
   "id": "e1267fdaf77b106f",
   "execution_count": 28
  },
  {
   "cell_type": "code",
   "outputs": [],
   "source": [
    "# Calculate the next row based on the current row by Game of Life rules.\n",
    "# This contains the logic for changing the state of the cells based on the rules.\n",
    "def step(row):\n",
    "    # Initialize the new row with zeros\n",
    "    new_row = np.zeros(len(row))\n",
    "\n",
    "    # Calculate the next row based on the current row\n",
    "    for value in range(len(row)):\n",
    "        # Find the live neighbors for the current cell\n",
    "        live_neighbors = count_live_neighbors(row, value)\n",
    "        # That is the logic step for the calculation of the next row\n",
    "        index = int(4 * row[value] + 2 * live_neighbors) % len(rules)\n",
    "        # Set the new cell index by the new value\n",
    "        new_row[value] = rules[index]\n",
    "    return new_row"
   ],
   "metadata": {
    "collapsed": false,
    "ExecuteTime": {
     "end_time": "2024-03-26T07:43:31.129194Z",
     "start_time": "2024-03-26T07:43:31.126821Z"
    }
   },
   "id": "1b051dd1dbdbd68a",
   "execution_count": 29
  },
  {
   "cell_type": "code",
   "outputs": [],
   "source": [
    "def print_row(row):\n",
    "    # Black cell for live cells, white cell for dead cells\n",
    "    return ''.join('⬛' if cell else '⬜' for cell in row)"
   ],
   "metadata": {
    "collapsed": false,
    "ExecuteTime": {
     "end_time": "2024-03-26T07:43:31.700831Z",
     "start_time": "2024-03-26T07:43:31.698677Z"
    }
   },
   "id": "c3a7c05422b3799a",
   "execution_count": 30
  },
  {
   "cell_type": "code",
   "outputs": [
    {
     "name": "stdout",
     "output_type": "stream",
     "text": [
      "Cells shape: (20, 20)\n",
      "⬜⬜⬛⬜⬛⬜⬜⬜⬛⬛⬛⬜⬛⬜⬜⬛⬜⬜⬛⬛\n",
      "⬜⬛⬛⬛⬛⬛⬜⬛⬛⬜⬛⬛⬛⬛⬛⬛⬛⬛⬛⬛\n",
      "⬛⬛⬜⬜⬜⬛⬛⬛⬛⬛⬛⬜⬜⬜⬜⬜⬜⬜⬜⬛\n",
      "⬛⬛⬛⬜⬛⬛⬜⬜⬜⬜⬛⬛⬜⬜⬜⬜⬜⬜⬛⬛\n",
      "⬛⬜⬛⬛⬛⬛⬛⬜⬜⬛⬛⬛⬛⬜⬜⬜⬜⬛⬛⬛\n",
      "⬛⬛⬛⬜⬜⬜⬛⬛⬛⬛⬜⬜⬛⬛⬜⬜⬛⬛⬜⬛\n",
      "⬛⬜⬛⬛⬜⬛⬛⬜⬜⬛⬛⬛⬛⬛⬛⬛⬛⬛⬛⬛\n",
      "⬛⬛⬛⬛⬛⬛⬛⬛⬛⬛⬜⬜⬜⬜⬜⬜⬜⬜⬜⬛\n",
      "⬛⬜⬜⬜⬜⬜⬜⬜⬜⬛⬛⬜⬜⬜⬜⬜⬜⬜⬛⬛\n",
      "⬛⬛⬜⬜⬜⬜⬜⬜⬛⬛⬛⬛⬜⬜⬜⬜⬜⬛⬛⬛\n",
      "⬛⬛⬛⬜⬜⬜⬜⬛⬛⬜⬜⬛⬛⬜⬜⬜⬛⬛⬜⬛\n",
      "⬛⬜⬛⬛⬜⬜⬛⬛⬛⬛⬛⬛⬛⬛⬜⬛⬛⬛⬛⬛\n",
      "⬛⬛⬛⬛⬛⬛⬛⬜⬜⬜⬜⬜⬜⬛⬛⬛⬜⬜⬜⬛\n",
      "⬛⬜⬜⬜⬜⬜⬛⬛⬜⬜⬜⬜⬛⬛⬜⬛⬛⬜⬛⬛\n",
      "⬛⬛⬜⬜⬜⬛⬛⬛⬛⬜⬜⬛⬛⬛⬛⬛⬛⬛⬛⬛\n",
      "⬛⬛⬛⬜⬛⬛⬜⬜⬛⬛⬛⬛⬜⬜⬜⬜⬜⬜⬜⬛\n",
      "⬛⬜⬛⬛⬛⬛⬛⬛⬛⬜⬜⬛⬛⬜⬜⬜⬜⬜⬛⬛\n",
      "⬛⬛⬛⬜⬜⬜⬜⬜⬛⬛⬛⬛⬛⬛⬜⬜⬜⬛⬛⬛\n",
      "⬛⬜⬛⬛⬜⬜⬜⬛⬛⬜⬜⬜⬜⬛⬛⬜⬛⬛⬜⬛\n",
      "⬛⬛⬛⬛⬛⬜⬛⬛⬛⬛⬜⬜⬛⬛⬛⬛⬛⬛⬛⬛\n"
     ]
    }
   ],
   "source": [
    "# Create Dashboard \n",
    "cells = np.zeros((GENERATIONS, len(first_row)))\n",
    "print(\"Cells shape:\", cells.shape)\n",
    "\n",
    "# Set the first row into Dashboard\n",
    "cells[0, :] = first_row\n",
    "\n",
    "# Simulating the evolution over time. \n",
    "# Each generation is based on the state of the previous generation\n",
    "for i in range(1, GENERATIONS):\n",
    "    cells[i, :] = step(cells[i-1, :])\n",
    "\n",
    "# Display the cells in the console\n",
    "for row in cells:\n",
    "    print(print_row(row))\n"
   ],
   "metadata": {
    "collapsed": false,
    "ExecuteTime": {
     "end_time": "2024-03-26T07:43:32.159187Z",
     "start_time": "2024-03-26T07:43:32.156252Z"
    }
   },
   "id": "aaa436daf5ae763e",
   "execution_count": 31
  }
 ],
 "metadata": {
  "kernelspec": {
   "display_name": "Python 3",
   "language": "python",
   "name": "python3"
  },
  "language_info": {
   "codemirror_mode": {
    "name": "ipython",
    "version": 2
   },
   "file_extension": ".py",
   "mimetype": "text/x-python",
   "name": "python",
   "nbconvert_exporter": "python",
   "pygments_lexer": "ipython2",
   "version": "2.7.6"
  }
 },
 "nbformat": 4,
 "nbformat_minor": 5
}
